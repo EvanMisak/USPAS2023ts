{
 "cells": [
  {
   "cell_type": "markdown",
   "id": "56b1034f",
   "metadata": {},
   "source": [
    "# Dual EVG"
   ]
  },
  {
   "cell_type": "markdown",
   "id": "16879d98",
   "metadata": {},
   "source": [
    "##    1. Device\n",
    "- LBNL Marble Board, in LLRF chassis\n",
    "- 1 or 2 Xilinx ZC706 board [1]\n",
    "- PmodGPS\n",
    "- MPO to LC fanout fiber\n",
    "- QSFP module\n",
    "- PC (USPAS2)"
   ]
  },
  {
   "cell_type": "markdown",
   "id": "73022149",
   "metadata": {},
   "source": [
    "##    2. Firmware and software\n",
    "\n",
    "The dual-EVG fpga firmware and software codes are available at \n",
    "\n",
    "*git@gitlab.lbl.gov:ghuang/dual-evg-uspas.git*\n",
    "\n",
    "This repo is a fork of the dual EVG at \n",
    "\n",
    "https://github.com/BerkeleyLab/LBNL-Dual-EVG [2]\n",
    "\n",
    "The synthesized bit file and elf are combined in the dualevg.bit. Use these file to config the board. You can also synthesize the bit from the source directly with vivado 2020.2. \n",
    "\n",
    "The EVR fpga firmware and software codes are the same as the one we used previously, which is available at \n",
    "\n",
    "http://gitlab.lbl.gov/ghuang/tinyevgevr. "
   ]
  },
  {
   "cell_type": "markdown",
   "id": "f78fec80",
   "metadata": {},
   "source": [
    "## 3. Instruction\n",
    "**a. Hardware setup**\n",
    "\n",
    "Connected PMOD GPS to the top row of the PMOD connector J12. \n",
    "\n",
    "**b. Software setup**\n",
    "\n",
    "## 4. Tasks\n",
    "**a. Load EVG code by the script/deploy.sh**\n",
    "\n",
    "**b. Load EVR code to both boards. Modify Makefile to load EVR code on both board.**\n",
    "\n",
    "**c. Demonstrate pulse per second on the EVRs**"
   ]
  },
  {
   "cell_type": "code",
   "execution_count": null,
   "id": "013081e6",
   "metadata": {},
   "outputs": [],
   "source": []
  },
  {
   "cell_type": "markdown",
   "id": "f2bfed3e",
   "metadata": {},
   "source": [
    "**d. Observer relative jitter between two EVRs.**"
   ]
  },
  {
   "cell_type": "code",
   "execution_count": null,
   "id": "f9c2421e",
   "metadata": {},
   "outputs": [],
   "source": []
  },
  {
   "cell_type": "markdown",
   "id": "f2ca9f16",
   "metadata": {},
   "source": [
    "**e. Study the dualEVG source code**"
   ]
  },
  {
   "cell_type": "code",
   "execution_count": null,
   "id": "115d00a3",
   "metadata": {},
   "outputs": [],
   "source": []
  },
  {
   "cell_type": "markdown",
   "id": "a909ca34",
   "metadata": {},
   "source": [
    "##    5. References\n",
    "[[1]]() Xilinx ZC706 board \n",
    "\n",
    "[[2]](https://github.com/BerkeleyLab/LBNL-Dual-EVG) Berkeley Dual EVG Repo "
   ]
  },
  {
   "cell_type": "code",
   "execution_count": null,
   "id": "74281cb7",
   "metadata": {},
   "outputs": [],
   "source": []
  }
 ],
 "metadata": {
  "kernelspec": {
   "display_name": "Python 3 (ipykernel)",
   "language": "python",
   "name": "python3"
  },
  "language_info": {
   "codemirror_mode": {
    "name": "ipython",
    "version": 3
   },
   "file_extension": ".py",
   "mimetype": "text/x-python",
   "name": "python",
   "nbconvert_exporter": "python",
   "pygments_lexer": "ipython3",
   "version": "3.10.6"
  }
 },
 "nbformat": 4,
 "nbformat_minor": 5
}
